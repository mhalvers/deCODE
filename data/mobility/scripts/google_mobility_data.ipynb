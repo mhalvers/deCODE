{
 "cells": [
  {
   "cell_type": "code",
   "execution_count": null,
   "id": "military-reverse",
   "metadata": {},
   "outputs": [],
   "source": [
    "import pandas as pd\n",
    "import matplotlib.pyplot as plt"
   ]
  },
  {
   "cell_type": "code",
   "execution_count": null,
   "id": "champion-disabled",
   "metadata": {},
   "outputs": [],
   "source": [
    "df = pd.read_csv(\"2020_CA_Region_Mobility_Report.csv\")"
   ]
  },
  {
   "cell_type": "code",
   "execution_count": null,
   "id": "bacterial-portuguese",
   "metadata": {},
   "outputs": [],
   "source": [
    "df.head()"
   ]
  },
  {
   "cell_type": "code",
   "execution_count": null,
   "id": "acknowledged-cookie",
   "metadata": {},
   "outputs": [],
   "source": [
    "df[\"sub_region_1\"].unique()"
   ]
  },
  {
   "cell_type": "code",
   "execution_count": null,
   "id": "italic-tower",
   "metadata": {},
   "outputs": [],
   "source": [
    "# create a mask to choose the data for Ontario (sub_region_1)\n",
    "# aggregated across all sub-regions (sub_region_2)\n",
    "\n",
    "mask = df[\"sub_region_1\"] == \"Ontario\"\n",
    "mask = mask & df[\"sub_region_2\"].isna()\n",
    "df = df.loc[mask]"
   ]
  },
  {
   "cell_type": "code",
   "execution_count": null,
   "id": "entitled-training",
   "metadata": {},
   "outputs": [],
   "source": [
    "df.shape"
   ]
  },
  {
   "cell_type": "code",
   "execution_count": null,
   "id": "damaged-copying",
   "metadata": {},
   "outputs": [],
   "source": [
    "df[\"sub_region_2\"].unique()"
   ]
  },
  {
   "cell_type": "code",
   "execution_count": null,
   "id": "electric-literacy",
   "metadata": {},
   "outputs": [],
   "source": [
    "df.columns"
   ]
  },
  {
   "cell_type": "code",
   "execution_count": null,
   "id": "baking-rugby",
   "metadata": {},
   "outputs": [],
   "source": [
    "df[\"grocery_and_pharmacy_percent_change_from_baseline\"].shape"
   ]
  },
  {
   "cell_type": "code",
   "execution_count": null,
   "id": "desperate-offer",
   "metadata": {},
   "outputs": [],
   "source": [
    "df[\"date\"] = pd.to_datetime(df[\"date\"])"
   ]
  },
  {
   "cell_type": "code",
   "execution_count": null,
   "id": "charitable-turning",
   "metadata": {},
   "outputs": [],
   "source": [
    "col_mask = df.columns.str.contains(\"baseline\")\n",
    "cols = df.columns[col_mask].to_list()"
   ]
  },
  {
   "cell_type": "code",
   "execution_count": null,
   "id": "private-psychiatry",
   "metadata": {},
   "outputs": [],
   "source": [
    "cols"
   ]
  },
  {
   "cell_type": "code",
   "execution_count": null,
   "id": "coordinate-banking",
   "metadata": {
    "scrolled": false
   },
   "outputs": [],
   "source": [
    "for col in cols:\n",
    "    plt.figure(figsize=(10,8));\n",
    "    plt.plot(df[\"date\"],df[col]);\n",
    "    plt.ylabel(col)\n",
    "    plt.show()"
   ]
  },
  {
   "cell_type": "code",
   "execution_count": null,
   "id": "sound-evans",
   "metadata": {},
   "outputs": [],
   "source": [
    "df.dropna(axis=\"columns\", how=\"all\",inplace=True)"
   ]
  },
  {
   "cell_type": "code",
   "execution_count": null,
   "id": "afraid-struggle",
   "metadata": {},
   "outputs": [],
   "source": [
    "df.head()"
   ]
  },
  {
   "cell_type": "code",
   "execution_count": null,
   "id": "herbal-drive",
   "metadata": {},
   "outputs": [],
   "source": [
    "# writes the file to \n",
    "fname = \"google_mobility_ontario_aggregated.csv\"\n",
    "df.to_csv(\"/Users/Mark/deCODE/data/mobility/\" + fname)"
   ]
  }
 ],
 "metadata": {
  "hide_input": false,
  "kernelspec": {
   "display_name": "Python 3",
   "language": "python",
   "name": "python3"
  },
  "language_info": {
   "codemirror_mode": {
    "name": "ipython",
    "version": 3
   },
   "file_extension": ".py",
   "mimetype": "text/x-python",
   "name": "python",
   "nbconvert_exporter": "python",
   "pygments_lexer": "ipython3",
   "version": "3.8.5"
  },
  "toc": {
   "base_numbering": 1,
   "nav_menu": {},
   "number_sections": true,
   "sideBar": true,
   "skip_h1_title": false,
   "title_cell": "Table of Contents",
   "title_sidebar": "Contents",
   "toc_cell": false,
   "toc_position": {},
   "toc_section_display": true,
   "toc_window_display": false
  }
 },
 "nbformat": 4,
 "nbformat_minor": 5
}
