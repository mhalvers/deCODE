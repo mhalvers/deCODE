{
 "cells": [
  {
   "cell_type": "code",
   "execution_count": null,
   "id": "published-administration",
   "metadata": {},
   "outputs": [],
   "source": [
    "import requests\n",
    "from bs4 import BeautifulSoup"
   ]
  },
  {
   "cell_type": "code",
   "execution_count": null,
   "id": "conventional-credit",
   "metadata": {},
   "outputs": [],
   "source": [
    "URL = \"https://health-infobase.canada.ca/covid-19/vaccine-safety/#a7\"\n",
    "page = requests.get(URL)"
   ]
  },
  {
   "cell_type": "code",
   "execution_count": null,
   "id": "broadband-speech",
   "metadata": {},
   "outputs": [],
   "source": [
    "soup = BeautifulSoup(page.content, 'html.parser')"
   ]
  },
  {
   "cell_type": "code",
   "execution_count": null,
   "id": "fuzzy-offset",
   "metadata": {},
   "outputs": [],
   "source": [
    "results = soup.find(id='figure5Table')"
   ]
  },
  {
   "cell_type": "code",
   "execution_count": null,
   "id": "administrative-princeton",
   "metadata": {},
   "outputs": [],
   "source": [
    "print(results.prettify())"
   ]
  },
  {
   "cell_type": "code",
   "execution_count": null,
   "id": "generic-birth",
   "metadata": {},
   "outputs": [],
   "source": [
    "elems = results.find_all(\"thead\")"
   ]
  },
  {
   "cell_type": "code",
   "execution_count": null,
   "id": "agricultural-distinction",
   "metadata": {},
   "outputs": [],
   "source": [
    "elems"
   ]
  },
  {
   "cell_type": "code",
   "execution_count": null,
   "id": "adjusted-definition",
   "metadata": {},
   "outputs": [],
   "source": [
    "elems.prettify()"
   ]
  },
  {
   "cell_type": "code",
   "execution_count": null,
   "id": "partial-musical",
   "metadata": {},
   "outputs": [],
   "source": [
    "for elem in elems.children:\n",
    "    print(elem)"
   ]
  }
 ],
 "metadata": {
  "hide_input": false,
  "kernelspec": {
   "display_name": "Python 3",
   "language": "python",
   "name": "python3"
  },
  "language_info": {
   "codemirror_mode": {
    "name": "ipython",
    "version": 3
   },
   "file_extension": ".py",
   "mimetype": "text/x-python",
   "name": "python",
   "nbconvert_exporter": "python",
   "pygments_lexer": "ipython3",
   "version": "3.8.5"
  },
  "toc": {
   "base_numbering": 1,
   "nav_menu": {},
   "number_sections": true,
   "sideBar": true,
   "skip_h1_title": false,
   "title_cell": "Table of Contents",
   "title_sidebar": "Contents",
   "toc_cell": false,
   "toc_position": {},
   "toc_section_display": true,
   "toc_window_display": false
  }
 },
 "nbformat": 4,
 "nbformat_minor": 5
}
