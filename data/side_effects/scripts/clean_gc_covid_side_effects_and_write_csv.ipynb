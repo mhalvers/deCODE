{
 "cells": [
  {
   "cell_type": "markdown",
   "id": "reduced-update",
   "metadata": {},
   "source": [
    "Figure 4 from this site: https://health-infobase.canada.ca/covid-19/vaccine-safety/\n",
    "was scraped into a text file in `data/side_effects_data/data/gc_covid_adverse_events.csv`\n",
    "\n",
    "Here we:\n",
    "\n",
    "1. read that data set \n",
    "2. convert the number of events into a percentage relative to doses administered\n",
    "3. write a csv"
   ]
  },
  {
   "cell_type": "code",
   "execution_count": null,
   "id": "recreational-active",
   "metadata": {},
   "outputs": [],
   "source": [
    "import pandas as pd"
   ]
  },
  {
   "cell_type": "code",
   "execution_count": null,
   "id": "purple-least",
   "metadata": {},
   "outputs": [],
   "source": [
    "filename = \"../data/gc_covid_adverse_events.csv\""
   ]
  },
  {
   "cell_type": "code",
   "execution_count": null,
   "id": "intended-medicaid",
   "metadata": {},
   "outputs": [],
   "source": [
    "# read some header info (date, n_doses)\n",
    "f = open(filename)\n",
    "lines = f.readlines()\n",
    "\n",
    "report_date = lines[4]\n",
    "n_doses = lines[5]\n",
    "n_reports = lines[6]"
   ]
  },
  {
   "cell_type": "code",
   "execution_count": null,
   "id": "aquatic-annual",
   "metadata": {},
   "outputs": [],
   "source": [
    "report_date = report_date.rstrip()\n",
    "n_doses = int(n_doses.split(' ')[-1].rstrip())\n",
    "n_reports = int(n_reports.split(' ')[-1].rstrip())"
   ]
  },
  {
   "cell_type": "code",
   "execution_count": null,
   "id": "apparent-contrary",
   "metadata": {},
   "outputs": [],
   "source": [
    "df = pd.read_csv(filename, sep=\"\\t\" , header=6)\n",
    "df.columns = df.columns.str.strip()"
   ]
  },
  {
   "cell_type": "code",
   "execution_count": null,
   "id": "effective-hammer",
   "metadata": {},
   "outputs": [],
   "source": [
    "df.head()"
   ]
  },
  {
   "cell_type": "code",
   "execution_count": null,
   "id": "executive-projection",
   "metadata": {},
   "outputs": [],
   "source": [
    "df[\"Percentage of administered doses\"] = 100*df[\"Number of adverse events\"]/n_doses"
   ]
  },
  {
   "cell_type": "code",
   "execution_count": null,
   "id": "blocked-absolute",
   "metadata": {},
   "outputs": [],
   "source": [
    "df.head()"
   ]
  },
  {
   "cell_type": "code",
   "execution_count": null,
   "id": "affecting-absence",
   "metadata": {},
   "outputs": [],
   "source": [
    "print(\"Report data:\", report_date)\n",
    "print(\"Number of doses:\", n_doses)\n",
    "print(\"Number of reports:\", n_reports)"
   ]
  },
  {
   "cell_type": "code",
   "execution_count": null,
   "id": "studied-yield",
   "metadata": {},
   "outputs": [],
   "source": [
    "# writes the file to \n",
    "fname = \"covid_vaccine_side_effects_cleaned.csv\"\n",
    "df.to_csv(\"/Users/Mark/deCODE/data/side_effects/data/\" + fname, index=False)"
   ]
  }
 ],
 "metadata": {
  "hide_input": false,
  "kernelspec": {
   "display_name": "Python 3",
   "language": "python",
   "name": "python3"
  },
  "language_info": {
   "codemirror_mode": {
    "name": "ipython",
    "version": 3
   },
   "file_extension": ".py",
   "mimetype": "text/x-python",
   "name": "python",
   "nbconvert_exporter": "python",
   "pygments_lexer": "ipython3",
   "version": "3.8.5"
  },
  "toc": {
   "base_numbering": 1,
   "nav_menu": {},
   "number_sections": true,
   "sideBar": true,
   "skip_h1_title": false,
   "title_cell": "Table of Contents",
   "title_sidebar": "Contents",
   "toc_cell": false,
   "toc_position": {},
   "toc_section_display": true,
   "toc_window_display": false
  }
 },
 "nbformat": 4,
 "nbformat_minor": 5
}
