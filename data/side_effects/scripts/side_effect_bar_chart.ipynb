{
 "cells": [
  {
   "cell_type": "code",
   "execution_count": null,
   "id": "serial-privacy",
   "metadata": {},
   "outputs": [],
   "source": [
    "import pandas as pd\n",
    "import matplotlib.pyplot as plt"
   ]
  },
  {
   "cell_type": "code",
   "execution_count": null,
   "id": "cooked-freeze",
   "metadata": {},
   "outputs": [],
   "source": [
    "filename = \"../data/gc_covid_adverse_events.csv\""
   ]
  },
  {
   "cell_type": "code",
   "execution_count": null,
   "id": "floral-story",
   "metadata": {},
   "outputs": [],
   "source": [
    "# read some header info (date, n_doses)\n",
    "f = open(filename)\n",
    "lines = f.readlines()\n",
    "\n",
    "report_date = lines[4]\n",
    "n_doses = lines[5]\n",
    "n_reports = lines[6]"
   ]
  },
  {
   "cell_type": "code",
   "execution_count": null,
   "id": "confirmed-australian",
   "metadata": {},
   "outputs": [],
   "source": [
    "report_date = report_date.rstrip()\n",
    "n_doses = int(n_doses.split(' ')[-1].rstrip())\n",
    "n_reports = int(n_reports.split(' ')[-1].rstrip())"
   ]
  },
  {
   "cell_type": "code",
   "execution_count": null,
   "id": "healthy-forge",
   "metadata": {},
   "outputs": [],
   "source": [
    "df = pd.read_csv(filename, sep=\"\\t\" , header=6)\n",
    "df.columns = df.columns.str.strip()"
   ]
  },
  {
   "cell_type": "code",
   "execution_count": null,
   "id": "dirty-league",
   "metadata": {},
   "outputs": [],
   "source": [
    "df[\"Percentage of administered doses\"] = 100*df[\"Number of adverse events\"]/n_doses"
   ]
  },
  {
   "cell_type": "code",
   "execution_count": null,
   "id": "representative-passage",
   "metadata": {},
   "outputs": [],
   "source": [
    "df.columns"
   ]
  },
  {
   "cell_type": "code",
   "execution_count": null,
   "id": "pharmaceutical-inflation",
   "metadata": {},
   "outputs": [],
   "source": [
    "df.set_index(\"Most frequently reported adverse events\", inplace=True)"
   ]
  },
  {
   "cell_type": "code",
   "execution_count": null,
   "id": "limiting-leeds",
   "metadata": {},
   "outputs": [],
   "source": [
    "#df"
   ]
  },
  {
   "cell_type": "code",
   "execution_count": null,
   "id": "alien-night",
   "metadata": {},
   "outputs": [],
   "source": [
    "plt.figure(figsize=(10,12))\n",
    "df[\"Percentage of administered doses\"].sort_values().plot.barh(fontsize=16, facecolor='#00C3A2')\n",
    "plt.xlabel(\"Percentage of doses\", size=18);\n",
    "plt.ylabel(None)\n",
    "title = df.index.name\n",
    "plt.title(title, size=18);\n",
    "plt.savefig('side_effect_bar_chart.png', bbox_inches='tight')"
   ]
  },
  {
   "cell_type": "code",
   "execution_count": null,
   "id": "constant-boulder",
   "metadata": {},
   "outputs": [],
   "source": [
    "#!open side_effect_bar_chart.png"
   ]
  }
 ],
 "metadata": {
  "hide_input": false,
  "kernelspec": {
   "display_name": "Python 3",
   "language": "python",
   "name": "python3"
  },
  "language_info": {
   "codemirror_mode": {
    "name": "ipython",
    "version": 3
   },
   "file_extension": ".py",
   "mimetype": "text/x-python",
   "name": "python",
   "nbconvert_exporter": "python",
   "pygments_lexer": "ipython3",
   "version": "3.8.5"
  },
  "toc": {
   "base_numbering": 1,
   "nav_menu": {},
   "number_sections": true,
   "sideBar": true,
   "skip_h1_title": false,
   "title_cell": "Table of Contents",
   "title_sidebar": "Contents",
   "toc_cell": false,
   "toc_position": {},
   "toc_section_display": true,
   "toc_window_display": false
  }
 },
 "nbformat": 4,
 "nbformat_minor": 5
}
