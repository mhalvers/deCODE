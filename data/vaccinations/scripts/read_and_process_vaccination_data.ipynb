{
 "cells": [
  {
   "cell_type": "markdown",
   "id": "broadband-necessity",
   "metadata": {},
   "source": [
    "__Read data on the number of vaccinations given in Canada.  Produces csv file that gives the cumulative number for each province.__"
   ]
  },
  {
   "cell_type": "code",
   "execution_count": null,
   "id": "racial-feature",
   "metadata": {},
   "outputs": [],
   "source": [
    "import pandas as pd"
   ]
  },
  {
   "cell_type": "code",
   "execution_count": null,
   "id": "radio-auditor",
   "metadata": {},
   "outputs": [],
   "source": [
    "df = pd.read_csv(\"https://health-infobase.canada.ca/src/data/covidLive/vaccination-administration.csv\")"
   ]
  },
  {
   "cell_type": "code",
   "execution_count": null,
   "id": "binding-personal",
   "metadata": {},
   "outputs": [],
   "source": [
    "df.head()"
   ]
  },
  {
   "cell_type": "code",
   "execution_count": null,
   "id": "living-seventh",
   "metadata": {},
   "outputs": [],
   "source": [
    "df.info()"
   ]
  },
  {
   "cell_type": "code",
   "execution_count": null,
   "id": "intelligent-flour",
   "metadata": {},
   "outputs": [],
   "source": [
    "df[\"as_of_date\"] = pd.to_datetime(df[\"as_of_date\"])\n",
    "df[\"report_date\"] = pd.to_datetime(df[\"report_date\"])"
   ]
  },
  {
   "cell_type": "code",
   "execution_count": null,
   "id": "engaging-station",
   "metadata": {},
   "outputs": [],
   "source": [
    "on_mask = df[\"prename\"] == \"Ontario\""
   ]
  },
  {
   "cell_type": "code",
   "execution_count": null,
   "id": "ancient-nomination",
   "metadata": {},
   "outputs": [],
   "source": [
    "#df.loc[on_mask]"
   ]
  },
  {
   "cell_type": "code",
   "execution_count": null,
   "id": "mineral-confirmation",
   "metadata": {},
   "outputs": [],
   "source": [
    "latest_data = df.groupby(\"prename\").max(\"numtotal_all_administered\")"
   ]
  },
  {
   "cell_type": "code",
   "execution_count": null,
   "id": "hired-grace",
   "metadata": {},
   "outputs": [],
   "source": [
    "latest_data.columns"
   ]
  },
  {
   "cell_type": "code",
   "execution_count": null,
   "id": "diverse-youth",
   "metadata": {},
   "outputs": [],
   "source": [
    "latest_data.drop(columns=[\"pruid\",\"numtotal_moderna_administered\",\"numtotal_unknown\",\"updated\"], inplace=True)"
   ]
  },
  {
   "cell_type": "code",
   "execution_count": null,
   "id": "considerable-israel",
   "metadata": {},
   "outputs": [],
   "source": [
    "latest_data.index.name = \"province\""
   ]
  },
  {
   "cell_type": "code",
   "execution_count": null,
   "id": "referenced-wednesday",
   "metadata": {},
   "outputs": [],
   "source": [
    "latest_data.rename(columns={\"numtotal_all_administered\":\"total vaccinations administered to date\"}, inplace=True)"
   ]
  },
  {
   "cell_type": "code",
   "execution_count": null,
   "id": "turned-optics",
   "metadata": {},
   "outputs": [],
   "source": [
    "latest_data"
   ]
  },
  {
   "cell_type": "code",
   "execution_count": null,
   "id": "closing-chemical",
   "metadata": {},
   "outputs": [],
   "source": [
    "file_and_path = \"../data/cleaned_total_vaccinations_to_date_by_province.csv\"\n",
    "latest_data.to_csv(file_and_path)"
   ]
  },
  {
   "cell_type": "code",
   "execution_count": null,
   "id": "underlying-orleans",
   "metadata": {},
   "outputs": [],
   "source": []
  }
 ],
 "metadata": {
  "hide_input": false,
  "kernelspec": {
   "display_name": "Python 3",
   "language": "python",
   "name": "python3"
  },
  "language_info": {
   "codemirror_mode": {
    "name": "ipython",
    "version": 3
   },
   "file_extension": ".py",
   "mimetype": "text/x-python",
   "name": "python",
   "nbconvert_exporter": "python",
   "pygments_lexer": "ipython3",
   "version": "3.8.5"
  },
  "toc": {
   "base_numbering": 1,
   "nav_menu": {},
   "number_sections": true,
   "sideBar": true,
   "skip_h1_title": false,
   "title_cell": "Table of Contents",
   "title_sidebar": "Contents",
   "toc_cell": false,
   "toc_position": {},
   "toc_section_display": true,
   "toc_window_display": false
  }
 },
 "nbformat": 4,
 "nbformat_minor": 5
}
