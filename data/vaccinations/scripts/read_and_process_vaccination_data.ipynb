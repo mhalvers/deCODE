{
 "cells": [
  {
   "cell_type": "markdown",
   "id": "promising-orientation",
   "metadata": {},
   "source": [
    "__Read data on the number of vaccinations given in Canada.  Produces csv file that gives the cumulative number for each province.__"
   ]
  },
  {
   "cell_type": "code",
   "execution_count": 1,
   "id": "boolean-bishop",
   "metadata": {},
   "outputs": [],
   "source": [
    "import pandas as pd"
   ]
  },
  {
   "cell_type": "code",
   "execution_count": 2,
   "id": "iraqi-glucose",
   "metadata": {},
   "outputs": [],
   "source": [
    "df = pd.read_csv(\"https://health-infobase.canada.ca/src/data/covidLive/vaccination-administration.csv\")"
   ]
  },
  {
   "cell_type": "code",
   "execution_count": 3,
   "id": "black-custody",
   "metadata": {},
   "outputs": [
    {
     "data": {
      "text/html": [
       "<div>\n",
       "<style scoped>\n",
       "    .dataframe tbody tr th:only-of-type {\n",
       "        vertical-align: middle;\n",
       "    }\n",
       "\n",
       "    .dataframe tbody tr th {\n",
       "        vertical-align: top;\n",
       "    }\n",
       "\n",
       "    .dataframe thead th {\n",
       "        text-align: right;\n",
       "    }\n",
       "</style>\n",
       "<table border=\"1\" class=\"dataframe\">\n",
       "  <thead>\n",
       "    <tr style=\"text-align: right;\">\n",
       "      <th></th>\n",
       "      <th>pruid</th>\n",
       "      <th>prename</th>\n",
       "      <th>report_date</th>\n",
       "      <th>numtotal_all_administered</th>\n",
       "      <th>numtotal_pfizerbiontech_administered</th>\n",
       "      <th>numtotal_moderna_administered</th>\n",
       "      <th>numtotal_unknown</th>\n",
       "      <th>as_of_date</th>\n",
       "      <th>updated</th>\n",
       "    </tr>\n",
       "  </thead>\n",
       "  <tbody>\n",
       "    <tr>\n",
       "      <th>0</th>\n",
       "      <td>1</td>\n",
       "      <td>Canada</td>\n",
       "      <td>2021-01-12</td>\n",
       "      <td>267078</td>\n",
       "      <td>NaN</td>\n",
       "      <td>NaN</td>\n",
       "      <td>NaN</td>\n",
       "      <td>2021-01-12</td>\n",
       "      <td>1</td>\n",
       "    </tr>\n",
       "    <tr>\n",
       "      <th>1</th>\n",
       "      <td>35</td>\n",
       "      <td>Ontario</td>\n",
       "      <td>2021-01-12</td>\n",
       "      <td>122105</td>\n",
       "      <td>NaN</td>\n",
       "      <td>NaN</td>\n",
       "      <td>NaN</td>\n",
       "      <td>2021-01-10</td>\n",
       "      <td>1</td>\n",
       "    </tr>\n",
       "    <tr>\n",
       "      <th>2</th>\n",
       "      <td>59</td>\n",
       "      <td>British Columbia</td>\n",
       "      <td>2021-01-12</td>\n",
       "      <td>59902</td>\n",
       "      <td>NaN</td>\n",
       "      <td>NaN</td>\n",
       "      <td>NaN</td>\n",
       "      <td>2021-01-11</td>\n",
       "      <td>1</td>\n",
       "    </tr>\n",
       "    <tr>\n",
       "      <th>3</th>\n",
       "      <td>48</td>\n",
       "      <td>Alberta</td>\n",
       "      <td>2021-01-12</td>\n",
       "      <td>46791</td>\n",
       "      <td>NaN</td>\n",
       "      <td>NaN</td>\n",
       "      <td>NaN</td>\n",
       "      <td>2021-01-10</td>\n",
       "      <td>1</td>\n",
       "    </tr>\n",
       "    <tr>\n",
       "      <th>4</th>\n",
       "      <td>47</td>\n",
       "      <td>Saskatchewan</td>\n",
       "      <td>2021-01-12</td>\n",
       "      <td>8948</td>\n",
       "      <td>NaN</td>\n",
       "      <td>NaN</td>\n",
       "      <td>NaN</td>\n",
       "      <td>2021-01-11</td>\n",
       "      <td>1</td>\n",
       "    </tr>\n",
       "  </tbody>\n",
       "</table>\n",
       "</div>"
      ],
      "text/plain": [
       "   pruid           prename report_date  numtotal_all_administered  \\\n",
       "0      1            Canada  2021-01-12                     267078   \n",
       "1     35           Ontario  2021-01-12                     122105   \n",
       "2     59  British Columbia  2021-01-12                      59902   \n",
       "3     48           Alberta  2021-01-12                      46791   \n",
       "4     47      Saskatchewan  2021-01-12                       8948   \n",
       "\n",
       "  numtotal_pfizerbiontech_administered  numtotal_moderna_administered  \\\n",
       "0                                  NaN                            NaN   \n",
       "1                                  NaN                            NaN   \n",
       "2                                  NaN                            NaN   \n",
       "3                                  NaN                            NaN   \n",
       "4                                  NaN                            NaN   \n",
       "\n",
       "   numtotal_unknown  as_of_date  updated  \n",
       "0               NaN  2021-01-12        1  \n",
       "1               NaN  2021-01-10        1  \n",
       "2               NaN  2021-01-11        1  \n",
       "3               NaN  2021-01-10        1  \n",
       "4               NaN  2021-01-11        1  "
      ]
     },
     "execution_count": 3,
     "metadata": {},
     "output_type": "execute_result"
    }
   ],
   "source": [
    "df.head()"
   ]
  },
  {
   "cell_type": "code",
   "execution_count": 6,
   "id": "fitted-algorithm",
   "metadata": {},
   "outputs": [
    {
     "name": "stdout",
     "output_type": "stream",
     "text": [
      "<class 'pandas.core.frame.DataFrame'>\n",
      "RangeIndex: 532 entries, 0 to 531\n",
      "Data columns (total 9 columns):\n",
      " #   Column                                Non-Null Count  Dtype         \n",
      "---  ------                                --------------  -----         \n",
      " 0   pruid                                 532 non-null    int64         \n",
      " 1   prename                               532 non-null    object        \n",
      " 2   report_date                           532 non-null    object        \n",
      " 3   numtotal_all_administered             532 non-null    int64         \n",
      " 4   numtotal_pfizerbiontech_administered  81 non-null     object        \n",
      " 5   numtotal_moderna_administered         76 non-null     float64       \n",
      " 6   numtotal_unknown                      32 non-null     float64       \n",
      " 7   as_of_date                            532 non-null    datetime64[ns]\n",
      " 8   updated                               532 non-null    int64         \n",
      "dtypes: datetime64[ns](1), float64(2), int64(3), object(3)\n",
      "memory usage: 37.5+ KB\n"
     ]
    }
   ],
   "source": [
    "df.info()"
   ]
  },
  {
   "cell_type": "code",
   "execution_count": 10,
   "id": "actual-correspondence",
   "metadata": {},
   "outputs": [],
   "source": [
    "df[\"as_of_date\"] = pd.to_datetime(df[\"as_of_date\"])\n",
    "df[\"report_date\"] = pd.to_datetime(df[\"report_date\"])"
   ]
  },
  {
   "cell_type": "code",
   "execution_count": 7,
   "id": "compressed-river",
   "metadata": {},
   "outputs": [],
   "source": [
    "on_mask = df[\"prename\"] == \"Ontario\""
   ]
  },
  {
   "cell_type": "code",
   "execution_count": 12,
   "id": "casual-burst",
   "metadata": {},
   "outputs": [],
   "source": [
    "#df.loc[on_mask]"
   ]
  },
  {
   "cell_type": "code",
   "execution_count": 32,
   "id": "happy-greece",
   "metadata": {},
   "outputs": [],
   "source": [
    "latest_data = df.groupby(\"prename\").max(\"numtotal_all_administered\")"
   ]
  },
  {
   "cell_type": "code",
   "execution_count": 33,
   "id": "complimentary-joseph",
   "metadata": {},
   "outputs": [
    {
     "data": {
      "text/plain": [
       "Index(['pruid', 'numtotal_all_administered', 'numtotal_moderna_administered',\n",
       "       'numtotal_unknown', 'updated'],\n",
       "      dtype='object')"
      ]
     },
     "execution_count": 33,
     "metadata": {},
     "output_type": "execute_result"
    }
   ],
   "source": [
    "latest_data.columns"
   ]
  },
  {
   "cell_type": "code",
   "execution_count": 34,
   "id": "informed-blackberry",
   "metadata": {},
   "outputs": [],
   "source": [
    "latest_data.drop(columns=[\"pruid\",\"numtotal_moderna_administered\",\"numtotal_unknown\",\"updated\"], inplace=True)"
   ]
  },
  {
   "cell_type": "code",
   "execution_count": 35,
   "id": "single-aside",
   "metadata": {},
   "outputs": [],
   "source": [
    "latest_data.index.name = \"province\""
   ]
  },
  {
   "cell_type": "code",
   "execution_count": 44,
   "id": "delayed-investing",
   "metadata": {},
   "outputs": [],
   "source": [
    "latest_data.rename(columns={\"numtotal_all_administered\":\"total vaccinations administered to date\"}, inplace=True)"
   ]
  },
  {
   "cell_type": "code",
   "execution_count": 45,
   "id": "dedicated-couple",
   "metadata": {},
   "outputs": [
    {
     "data": {
      "text/html": [
       "<div>\n",
       "<style scoped>\n",
       "    .dataframe tbody tr th:only-of-type {\n",
       "        vertical-align: middle;\n",
       "    }\n",
       "\n",
       "    .dataframe tbody tr th {\n",
       "        vertical-align: top;\n",
       "    }\n",
       "\n",
       "    .dataframe thead th {\n",
       "        text-align: right;\n",
       "    }\n",
       "</style>\n",
       "<table border=\"1\" class=\"dataframe\">\n",
       "  <thead>\n",
       "    <tr style=\"text-align: right;\">\n",
       "      <th></th>\n",
       "      <th>total vaccinations administered to date</th>\n",
       "    </tr>\n",
       "    <tr>\n",
       "      <th>province</th>\n",
       "      <th></th>\n",
       "    </tr>\n",
       "  </thead>\n",
       "  <tbody>\n",
       "    <tr>\n",
       "      <th>Alberta</th>\n",
       "      <td>266231</td>\n",
       "    </tr>\n",
       "    <tr>\n",
       "      <th>British Columbia</th>\n",
       "      <td>298851</td>\n",
       "    </tr>\n",
       "    <tr>\n",
       "      <th>Canada</th>\n",
       "      <td>2205303</td>\n",
       "    </tr>\n",
       "    <tr>\n",
       "      <th>Manitoba</th>\n",
       "      <td>82579</td>\n",
       "    </tr>\n",
       "    <tr>\n",
       "      <th>New Brunswick</th>\n",
       "      <td>33741</td>\n",
       "    </tr>\n",
       "    <tr>\n",
       "      <th>Newfoundland and Labrador</th>\n",
       "      <td>24757</td>\n",
       "    </tr>\n",
       "    <tr>\n",
       "      <th>Northwest Territories</th>\n",
       "      <td>19775</td>\n",
       "    </tr>\n",
       "    <tr>\n",
       "      <th>Nova Scotia</th>\n",
       "      <td>37590</td>\n",
       "    </tr>\n",
       "    <tr>\n",
       "      <th>Nunavut</th>\n",
       "      <td>13753</td>\n",
       "    </tr>\n",
       "    <tr>\n",
       "      <th>Ontario</th>\n",
       "      <td>820714</td>\n",
       "    </tr>\n",
       "    <tr>\n",
       "      <th>Prince Edward Island</th>\n",
       "      <td>13281</td>\n",
       "    </tr>\n",
       "    <tr>\n",
       "      <th>Quebec</th>\n",
       "      <td>490504</td>\n",
       "    </tr>\n",
       "    <tr>\n",
       "      <th>Saskatchewan</th>\n",
       "      <td>84090</td>\n",
       "    </tr>\n",
       "    <tr>\n",
       "      <th>Yukon</th>\n",
       "      <td>19437</td>\n",
       "    </tr>\n",
       "  </tbody>\n",
       "</table>\n",
       "</div>"
      ],
      "text/plain": [
       "                           total vaccinations administered to date\n",
       "province                                                          \n",
       "Alberta                                                     266231\n",
       "British Columbia                                            298851\n",
       "Canada                                                     2205303\n",
       "Manitoba                                                     82579\n",
       "New Brunswick                                                33741\n",
       "Newfoundland and Labrador                                    24757\n",
       "Northwest Territories                                        19775\n",
       "Nova Scotia                                                  37590\n",
       "Nunavut                                                      13753\n",
       "Ontario                                                     820714\n",
       "Prince Edward Island                                         13281\n",
       "Quebec                                                      490504\n",
       "Saskatchewan                                                 84090\n",
       "Yukon                                                        19437"
      ]
     },
     "execution_count": 45,
     "metadata": {},
     "output_type": "execute_result"
    }
   ],
   "source": [
    "latest_data"
   ]
  },
  {
   "cell_type": "code",
   "execution_count": 46,
   "id": "latin-seven",
   "metadata": {},
   "outputs": [],
   "source": [
    "file_and_path = \"../data/cleaned_total_vaccinations_to_date_by_province.csv\"\n",
    "latest_data.to_csv(file_and_path)"
   ]
  },
  {
   "cell_type": "code",
   "execution_count": null,
   "id": "interpreted-isaac",
   "metadata": {},
   "outputs": [],
   "source": []
  }
 ],
 "metadata": {
  "hide_input": false,
  "kernelspec": {
   "display_name": "Python 3",
   "language": "python",
   "name": "python3"
  },
  "language_info": {
   "codemirror_mode": {
    "name": "ipython",
    "version": 3
   },
   "file_extension": ".py",
   "mimetype": "text/x-python",
   "name": "python",
   "nbconvert_exporter": "python",
   "pygments_lexer": "ipython3",
   "version": "3.8.5"
  },
  "toc": {
   "base_numbering": 1,
   "nav_menu": {},
   "number_sections": true,
   "sideBar": true,
   "skip_h1_title": false,
   "title_cell": "Table of Contents",
   "title_sidebar": "Contents",
   "toc_cell": false,
   "toc_position": {},
   "toc_section_display": true,
   "toc_window_display": false
  }
 },
 "nbformat": 4,
 "nbformat_minor": 5
}
